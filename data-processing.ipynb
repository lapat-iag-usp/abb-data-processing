{
 "cells": [
  {
   "cell_type": "markdown",
   "metadata": {
    "pycharm": {
     "name": "#%% md\n"
    }
   },
   "source": [
    "# ABB Data Processing"
   ]
  },
  {
   "cell_type": "code",
   "execution_count": null,
   "metadata": {
    "pycharm": {
     "name": "#%%\n"
    }
   },
   "outputs": [],
   "source": [
    "import glob\n",
    "from decouple import config\n",
    "import zipfile"
   ]
  },
  {
   "cell_type": "code",
   "execution_count": null,
   "metadata": {},
   "outputs": [],
   "source": [
    "path = config('MY_PATH')"
   ]
  },
  {
   "cell_type": "markdown",
   "metadata": {},
   "source": [
    "Unzip all files"
   ]
  },
  {
   "cell_type": "code",
   "execution_count": null,
   "metadata": {
    "pycharm": {
     "name": "#%%\n"
    }
   },
   "outputs": [],
   "source": [
    "filenames = [filename for filename in glob.iglob(path + '*/*.zip')]\n",
    "for file in filenames:\n",
    "    with zipfile.ZipFile(file, 'r') as zip_ref:\n",
    "        zip_ref.extractall(file[:len(path)+11])"
   ]
  },
  {
   "cell_type": "markdown",
   "metadata": {},
   "source": [
    "Delete first line and PGP message at the end of the file"
   ]
  },
  {
   "cell_type": "code",
   "execution_count": null,
   "metadata": {
    "pycharm": {
     "name": "#%%\n"
    }
   },
   "outputs": [],
   "source": [
    "filenames = [filename for filename in glob.iglob(path + '*/*_f*.txt')]\n",
    "\n",
    "lookup = '-----BEGIN PGP MESSAGE-----'\n",
    "for file in filenames:\n",
    "    with open(file) as my_file:\n",
    "        for num, line in enumerate(my_file, 1):\n",
    "            if lookup in line:\n",
    "                idx = num\n",
    "        my_file.close()\n",
    "        \n",
    "    with open(file, \"r\") as f:\n",
    "        lines = f.readlines()\n",
    "        f.close()\n",
    "    \n",
    "    with open(file, \"w\") as f:\n",
    "        if idx != 0:\n",
    "            f.writelines(lines[1:idx-1])\n",
    "        else:\n",
    "            f.writelines(lines[1:])\n",
    "        idx = 0\n",
    "        f.close()"
   ]
  },
  {
   "cell_type": "markdown",
   "metadata": {},
   "source": [
    "Remove white spaces"
   ]
  },
  {
   "cell_type": "code",
   "execution_count": null,
   "metadata": {},
   "outputs": [],
   "source": [
    "filenames = [filename for filename in glob.iglob(path + '*/*_f*.txt')]\n",
    "\n",
    "for file in filenames:\n",
    "    with open(file, 'r') as f:\n",
    "        txt = f.read().replace(' ', '')\n",
    "\n",
    "    with open(file, 'w') as f:\n",
    "        f.write(txt)"
   ]
  }
 ],
 "metadata": {
  "kernelspec": {
   "display_name": "Python 3",
   "language": "python",
   "name": "python3"
  },
  "language_info": {
   "codemirror_mode": {
    "name": "ipython",
    "version": 3
   },
   "file_extension": ".py",
   "mimetype": "text/x-python",
   "name": "python",
   "nbconvert_exporter": "python",
   "pygments_lexer": "ipython3",
   "version": "3.7.4"
  }
 },
 "nbformat": 4,
 "nbformat_minor": 1
}